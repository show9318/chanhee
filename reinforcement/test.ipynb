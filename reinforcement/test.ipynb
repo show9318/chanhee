{
 "cells": [
  {
   "cell_type": "code",
   "execution_count": 1,
   "metadata": {
    "collapsed": true
   },
   "outputs": [],
   "source": [
    "from __future__ import division\n",
    "\n",
    "import argparse\n",
    "import os\n",
    "import matplotlib\n",
    "matplotlib.use('TkAgg')\n",
    "import matplotlib.animation as animation\n",
    "import matplotlib.pyplot as plt\n",
    "\n",
    "from catch_ball import CatchBall\n",
    "from dqn_agent import DQNAgent\n",
    "\n",
    "def init():\n",
    "    img.set_array(state_t_1)\n",
    "    plt.axis(\"off\")\n",
    "    return img,\n",
    "\n",
    "\n",
    "def animate(step):\n",
    "    global win, lose\n",
    "    global state_t_1, reward_t, terminal\n",
    "\n",
    "    if terminal:\n",
    "        env.reset()\n",
    "\n",
    "        # for log\n",
    "        if reward_t == 1:\n",
    "            win += 1\n",
    "        elif reward_t == -1:\n",
    "            lose += 1\n",
    "\n",
    "        print(\"WIN: {:03d}/{:03d} ({:.1f}%)\".format(win, win + lose, 100 * win / (win + lose)))\n",
    "\n",
    "    else:\n",
    "        state_t = state_t_1\n",
    "\n",
    "        # execute action in environment\n",
    "        action_t = agent.select_action(state_t, 0.0)\n",
    "        env.execute_action(action_t)\n",
    "\n",
    "    # observe environment\n",
    "    state_t_1, reward_t, terminal = env.observe()\n",
    "\n",
    "    # animate\n",
    "    img.set_array(state_t_1)\n",
    "    plt.axis(\"off\")\n",
    "    return img,"
   ]
  },
  {
   "cell_type": "code",
   "execution_count": 2,
   "metadata": {
    "collapsed": false
   },
   "outputs": [],
   "source": [
    "# args\n",
    "parser = argparse.ArgumentParser()\n",
    "parser.add_argument(\"-m\", \"--model_path\")\n",
    "parser.add_argument(\"-s\", \"--save\", dest=\"save\", action=\"store_true\")\n",
    "parser.set_defaults(save=False)\n",
    "args = parser.parse_args([\"-m\", \"\"])"
   ]
  },
  {
   "cell_type": "code",
   "execution_count": null,
   "metadata": {
    "collapsed": false
   },
   "outputs": [
    {
     "name": "stdout",
     "output_type": "stream",
     "text": [
      "WIN: 001/001 (100.0%)\n",
      "WIN: 002/002 (100.0%)\n",
      "WIN: 003/003 (100.0%)\n",
      "WIN: 004/004 (100.0%)\n",
      "WIN: 005/005 (100.0%)\n",
      "WIN: 006/006 (100.0%)\n",
      "WIN: 007/007 (100.0%)\n",
      "WIN: 008/008 (100.0%)\n",
      "WIN: 009/009 (100.0%)\n",
      "WIN: 010/010 (100.0%)\n",
      "WIN: 011/011 (100.0%)\n",
      "WIN: 012/012 (100.0%)\n",
      "WIN: 013/013 (100.0%)\n",
      "WIN: 014/014 (100.0%)\n",
      "WIN: 015/015 (100.0%)\n",
      "WIN: 016/016 (100.0%)\n",
      "WIN: 017/017 (100.0%)\n",
      "WIN: 018/018 (100.0%)\n",
      "WIN: 019/019 (100.0%)\n",
      "WIN: 020/020 (100.0%)\n",
      "WIN: 021/021 (100.0%)\n",
      "WIN: 022/022 (100.0%)\n",
      "WIN: 023/023 (100.0%)\n",
      "WIN: 024/024 (100.0%)\n",
      "WIN: 025/025 (100.0%)\n",
      "WIN: 026/026 (100.0%)\n",
      "WIN: 027/027 (100.0%)\n",
      "WIN: 028/028 (100.0%)\n",
      "WIN: 029/029 (100.0%)\n",
      "WIN: 030/030 (100.0%)\n",
      "WIN: 031/031 (100.0%)\n",
      "WIN: 032/032 (100.0%)\n",
      "WIN: 033/033 (100.0%)\n",
      "WIN: 034/034 (100.0%)\n",
      "WIN: 035/035 (100.0%)\n",
      "WIN: 036/036 (100.0%)\n",
      "WIN: 037/037 (100.0%)\n",
      "WIN: 038/038 (100.0%)\n",
      "WIN: 039/039 (100.0%)\n",
      "WIN: 040/040 (100.0%)\n",
      "WIN: 041/041 (100.0%)\n",
      "WIN: 042/042 (100.0%)\n",
      "WIN: 043/043 (100.0%)\n",
      "WIN: 044/044 (100.0%)\n",
      "WIN: 045/045 (100.0%)\n",
      "WIN: 046/046 (100.0%)\n",
      "WIN: 047/047 (100.0%)\n",
      "WIN: 048/048 (100.0%)\n",
      "WIN: 049/049 (100.0%)\n",
      "WIN: 050/050 (100.0%)\n",
      "WIN: 051/051 (100.0%)\n",
      "WIN: 052/052 (100.0%)\n",
      "WIN: 053/053 (100.0%)\n",
      "WIN: 054/054 (100.0%)\n",
      "WIN: 055/055 (100.0%)\n",
      "WIN: 056/056 (100.0%)\n",
      "WIN: 057/057 (100.0%)\n",
      "WIN: 058/058 (100.0%)\n",
      "WIN: 059/059 (100.0%)\n",
      "WIN: 060/060 (100.0%)\n",
      "WIN: 061/061 (100.0%)\n"
     ]
    }
   ],
   "source": [
    "# environmet, agent\n",
    "env = CatchBall()\n",
    "agent = DQNAgent(env.enable_actions, env.name)\n",
    "agent.load_model(args.model_path)\n",
    "\n",
    "# variables\n",
    "win, lose = 0, 0\n",
    "state_t_1, reward_t, terminal = env.observe()\n",
    "\n",
    "# animate\n",
    "fig = plt.figure(figsize=(env.screen_n_rows / 2, env.screen_n_cols / 2))\n",
    "fig.canvas.set_window_title(\"{}-{}\".format(env.name, agent.name))\n",
    "img = plt.imshow(state_t_1, interpolation=\"none\", cmap=\"gray\")\n",
    "ani = animation.FuncAnimation(fig, animate, init_func=init, interval=(1000 / env.frame_rate), blit=True)\n",
    "\n",
    "if args.save:\n",
    "    # save animation (requires ImageMagick)\n",
    "    ani_path = os.path.join(\n",
    "        os.path.dirname(os.path.abspath(__file__)), \"tmp\", \"demo-{}.gif\".format(env.name))\n",
    "    ani.save(ani_path, writer=\"imagemagick\", fps=env.frame_rate)\n",
    "else:\n",
    "    # show animation\n",
    "    plt.show()"
   ]
  },
  {
   "cell_type": "code",
   "execution_count": null,
   "metadata": {
    "collapsed": true
   },
   "outputs": [],
   "source": []
  }
 ],
 "metadata": {
  "anaconda-cloud": {},
  "kernelspec": {
   "display_name": "Python [default]",
   "language": "python",
   "name": "python3"
  },
  "language_info": {
   "codemirror_mode": {
    "name": "ipython",
    "version": 3
   },
   "file_extension": ".py",
   "mimetype": "text/x-python",
   "name": "python",
   "nbconvert_exporter": "python",
   "pygments_lexer": "ipython3",
   "version": "3.5.2"
  }
 },
 "nbformat": 4,
 "nbformat_minor": 2
}
