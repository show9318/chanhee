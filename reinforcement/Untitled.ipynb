{
 "cells": [
  {
   "cell_type": "code",
   "execution_count": 1,
   "metadata": {
    "collapsed": true
   },
   "outputs": [],
   "source": [
    "import os\n",
    "import numpy as np\n",
    "\n",
    "\n",
    "class CatchBall:\n",
    "    def __init__(self):\n",
    "        # parameters\n",
    "        self.name = os.path.splitext(os.path.basename(__file__))[0]\n",
    "        self.screen_n_rows = 8\n",
    "        self.screen_n_cols = 8\n",
    "        self.player_length = 3\n",
    "        self.enable_actions = (0, 1, 2)\n",
    "        self.frame_rate = 5\n",
    "\n",
    "        # variables\n",
    "        self.reset()\n",
    "\n",
    "    def update(self, action):\n",
    "        \"\"\"\n",
    "        action:\n",
    "            0: do nothing\n",
    "            1: move left\n",
    "            2: move right\n",
    "        \"\"\"\n",
    "        # update player position\n",
    "        if action == self.enable_actions[1]:\n",
    "            # move left\n",
    "            self.player_col = max(0, self.player_col - 1)\n",
    "        elif action == self.enable_actions[2]:\n",
    "            # move right\n",
    "            self.player_col = min(self.player_col + 1, self.screen_n_cols - self.player_length)\n",
    "        else:\n",
    "            # do nothing\n",
    "            pass\n",
    "\n",
    "        # update ball position\n",
    "        self.ball_row += 1\n",
    "\n",
    "        # collision detection\n",
    "        self.reward = 0\n",
    "        self.terminal = False\n",
    "        if self.ball_row == self.screen_n_rows - 1:\n",
    "            self.terminal = True\n",
    "            if self.player_col <= self.ball_col < self.player_col + self.player_length:\n",
    "                # catch\n",
    "                self.reward = 1\n",
    "            else:\n",
    "                # drop\n",
    "                self.reward = -1\n",
    "\n",
    "    def draw(self):\n",
    "        # reset screen\n",
    "        self.screen = np.zeros((self.screen_n_rows, self.screen_n_cols))\n",
    "\n",
    "        # draw player\n",
    "        self.screen[self.player_row, self.player_col:self.player_col + self.player_length] = 1\n",
    "\n",
    "        # draw ball\n",
    "        self.screen[self.ball_row, self.ball_col] = 1\n",
    "\n",
    "    def observe(self):\n",
    "        self.draw()\n",
    "        return self.screen, self.reward, self.terminal\n",
    "\n",
    "    def execute_action(self, action):\n",
    "        self.update(action)\n",
    "\n",
    "    def reset(self):\n",
    "        # reset player position\n",
    "        self.player_row = self.screen_n_rows - 1\n",
    "        self.player_col = np.random.randint(self.screen_n_cols - self.player_length)\n",
    "\n",
    "        # reset ball position\n",
    "        self.ball_row = 0\n",
    "        self.ball_col = np.random.randint(self.screen_n_cols)\n",
    "\n",
    "        # reset other variables\n",
    "        self.reward = 0\n",
    "        self.terminal = False"
   ]
  },
  {
   "cell_type": "code",
   "execution_count": null,
   "metadata": {
    "collapsed": true
   },
   "outputs": [],
   "source": []
  },
  {
   "cell_type": "code",
   "execution_count": null,
   "metadata": {
    "collapsed": true
   },
   "outputs": [],
   "source": []
  }
 ],
 "metadata": {
  "anaconda-cloud": {},
  "kernelspec": {
   "display_name": "Python [conda root]",
   "language": "python",
   "name": "conda-root-py"
  },
  "language_info": {
   "codemirror_mode": {
    "name": "ipython",
    "version": 3
   },
   "file_extension": ".py",
   "mimetype": "text/x-python",
   "name": "python",
   "nbconvert_exporter": "python",
   "pygments_lexer": "ipython3",
   "version": "3.5.2"
  }
 },
 "nbformat": 4,
 "nbformat_minor": 1
}
